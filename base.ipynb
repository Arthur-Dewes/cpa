{
 "cells": [
  {
   "cell_type": "markdown",
   "id": "fb80c038-c890-4055-8177-391acd554e3e",
   "metadata": {},
   "source": [
    "1. Obter uma página\n",
    "2. Salvar a página como um arquivo html, chamado titulo_verbete.html\n",
    "3. Extrair todos os links que se encontram nessa página\n",
    "4. Filtrar os links, removendo os que não se referem à verbetes e os verbetes que já foram visitados\n",
    "5. Guardar esses links em uma lista\n",
    "6. Escolher um link não visitado para ser a próxima página\n",
    "7. Voltar ao passo inicial\n",
    "\n",
    "**Para paginas com infobox**\n",
    "1. Título: toda infobox possui um título que fica no topo da caixa.\n",
    "2. Pares chave – valor: esses pares são identificados por uma chave que está associada a um único valor.\n",
    "3. Pares chave – lista: nesse tipo de item, uma chave está associada a uma lista de valores."
   ]
  },
  {
   "cell_type": "code",
   "execution_count": null,
   "id": "37cdfd80",
   "metadata": {},
   "outputs": [],
   "source": [
    "import requests\n",
    "from bs4 import BeautifulSoup"
   ]
  },
  {
   "cell_type": "code",
   "execution_count": null,
   "id": "af94d2a3",
   "metadata": {},
   "outputs": [],
   "source": [
    "# Obtendo a página inicial da Wikipedia\n",
    "url = \"https://pt.wikipedia.org/wiki/Wikip%C3%A9dia:P%C3%A1gina_principal\"\n",
    "response = requests.get(url)\n",
    "soup = BeautifulSoup(response.content, \"html.parser\")"
   ]
  },
  {
   "cell_type": "code",
   "execution_count": null,
   "id": "5375b207",
   "metadata": {},
   "outputs": [],
   "source": [
    "# Coletando múltiplas páginas em loop\n",
    "import time\n",
    "for _ in range(10):\n",
    "    response = requests.get(url)\n",
    "    print(\"Obtive a página\")\n",
    "    time.sleep(1)\n",
    "print(response)"
   ]
  },
  {
   "cell_type": "code",
   "execution_count": null,
   "id": "cff9010f",
   "metadata": {},
   "outputs": [],
   "source": [
    "# Salvar uma página\n",
    "pagina = \"https://pt.wikipedia.org/wiki/%C3%93scar\"\n",
    "response = requests.get(pagina)\n",
    "soup = BeautifulSoup(response.content)\n",
    "titulo = soup.select(\".mw-page-title-main\")\n",
    "nome_arquivo = titulo[0].text\n",
    "# with open(f\"{nome_arquivo}.html\", \"w\", encoding=\"utf-8\") as f:\n",
    "#     conteudo = response.content.decode(\"utf-8\")\n",
    "#     f.write(conteudo)"
   ]
  },
  {
   "cell_type": "code",
   "execution_count": null,
   "id": "e14cc0b1",
   "metadata": {},
   "outputs": [],
   "source": [
    "todos_links = soup.find(id=\"bodyContent\").find_all(\"a\")\n",
    "for link in todos_links:\n",
    "    print(link)\n",
    "    print(link[\"href\"]),\n",
    "    print()"
   ]
  },
  {
   "cell_type": "code",
   "execution_count": null,
   "id": "8b4c2463",
   "metadata": {},
   "outputs": [],
   "source": [
    "links = []\n",
    "for link in todos_links:\n",
    "    if \"href\" in link.attrs.keys() and link[\"href\"].startswith(\"/wiki/\"):\n",
    "        if link[\"href\"].find(\":\") == -1:\n",
    "            links.append(link[\"href\"])\n",
    "            print(links[-1])\n",
    "print(f\"Encontrados {len(links)} nesta página\")"
   ]
  },
  {
   "cell_type": "code",
   "execution_count": null,
   "id": "325400ea",
   "metadata": {},
   "outputs": [],
   "source": [
    "# Extração das infoboxes\n",
    "url = \"https://pt.wikipedia.org/wiki/Alan_Turing\"\n",
    "response = requests.get(url)\n",
    "soup = BeautifulSoup(response.content, \"html.parser\")"
   ]
  },
  {
   "cell_type": "code",
   "execution_count": null,
   "id": "d02538ca",
   "metadata": {},
   "outputs": [],
   "source": [
    "box = soup.find_all(attrs={\"class\": \"infobox infobox_v2\"})\n",
    "len(box)"
   ]
  },
  {
   "cell_type": "code",
   "execution_count": null,
   "id": "bb409b5e",
   "metadata": {},
   "outputs": [],
   "source": [
    "# Extração das infoboxes\n",
    "url = \"https://pt.wikipedia.org/wiki/Alan_Turing\"\n",
    "response = requests.get(url)\n",
    "soup = BeautifulSoup(response.content, \"html.parser\")\n",
    "box = soup.find_all(attrs={\"class\": \"infobox infobox_v2\"})\n",
    "len(box)"
   ]
  },
  {
   "cell_type": "code",
   "execution_count": null,
   "id": "0f95f328",
   "metadata": {},
   "outputs": [],
   "source": [
    "if len(box) > 0:\n",
    "    print(\"Essa página contém um infobox\")\n",
    "else:\n",
    "    print(\"Essa página NÃO contém infobox\")"
   ]
  },
  {
   "cell_type": "code",
   "execution_count": null,
   "id": "9db17bda",
   "metadata": {},
   "outputs": [],
   "source": [
    "for tag in box[0].find_all(\"tr\"):\n",
    "    print(tag)\n",
    "    print()"
   ]
  },
  {
   "cell_type": "code",
   "execution_count": null,
   "id": "dc042f94",
   "metadata": {},
   "outputs": [],
   "source": [
    "for tag in box[0].find_all(\"tr\"):\n",
    "    if tag.find(attrs={\"scope\":\"row\"}):\n",
    "        td_tag = tag.find_all(\"td\")\n",
    "        print(len(td_tag))\n",
    "        print([filho for filho in td_tag[0].children])\n",
    "        print()\n",
    "        print([filho for filho in td_tag[1].children])\n",
    "        print()\n",
    "        print()"
   ]
  }
 ],
 "metadata": {
  "kernelspec": {
   "display_name": "Python 3 (ipykernel)",
   "language": "python",
   "name": "python3"
  },
  "language_info": {
   "codemirror_mode": {
    "name": "ipython",
    "version": 3
   },
   "file_extension": ".py",
   "mimetype": "text/x-python",
   "name": "python",
   "nbconvert_exporter": "python",
   "pygments_lexer": "ipython3",
   "version": "3.12.3"
  }
 },
 "nbformat": 4,
 "nbformat_minor": 5
}
