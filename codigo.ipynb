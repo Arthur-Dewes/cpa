{
 "cells": [
  {
   "cell_type": "markdown",
   "id": "862a5caa-b0b3-4dd2-af5b-120c6125265c",
   "metadata": {
    "panel-layout": {
     "height": 190.0500030517578,
     "visible": true,
     "width": 100
    }
   },
   "source": [
    "Inicializar conjunto de 'visitados' como vazio\n",
    "Inicializar lista de 'a_visitar' com uma URL inicial da Wikipedia (ex: \"https://pt.wikipedia.org/wiki/Especial:Aleatoria\")\n",
    "\n",
    "Loop até que 5000 páginas sejam processadas:\n",
    "    Se 'a_visitar' estiver vazia:\n",
    "        Encerrar loop (não há mais páginas para visitar)\n",
    "\n",
    "    Remover o primeiro link da lista 'a_visitar' → salvar como 'url_atual'\n",
    "\n",
    "    Se 'url_atual' já estiver em 'visitados':\n",
    "        Continuar para a próxima iteração do loop\n",
    "\n",
    "    Fazer requisição HTTP para 'url_atual' e obter o conteúdo HTML\n",
    "    Salvar o conteúdo HTML em um arquivo local (ex: com nome baseado no título da página)\n",
    "\n",
    "    Adicionar 'url_atual' ao conjunto 'visitados'\n",
    "\n",
    "    Usar BeautifulSoup para analisar o HTML\n",
    "\n",
    "    Se a página contiver uma 'infobox':\n",
    "        Obter o título da página\n",
    "        Para cada linha da infobox:\n",
    "            Se a linha contiver uma chave e valor simples:\n",
    "                Armazenar como par chave-valor\n",
    "            Se a linha contiver uma lista de itens:\n",
    "                Armazenar como chave e lista de valores\n",
    "\n",
    "    Obter todos os links da página (tags <a>)\n",
    "    Para cada link:\n",
    "        Obter o atributo 'href'\n",
    "        Se o link:\n",
    "            - Começa com '/wiki/'\n",
    "            - Não contém ':'\n",
    "            - Ainda não está em 'visitados'\n",
    "            - Ainda não está em 'a_visitar'\n",
    "        Então:\n",
    "            Adicionar o link completo à lista 'a_visitar'\n",
    "\n",
    "Fim do loop"
   ]
  },
  {
   "cell_type": "code",
   "execution_count": null,
   "id": "24142ec7-0bba-404e-99b1-e1a4b9f2721b",
   "metadata": {},
   "outputs": [],
   "source": [
    "import requests\n",
    "from bs4 import BeautifulSoup\n",
    "import time"
   ]
  },
  {
   "cell_type": "code",
   "execution_count": null,
   "id": "2bc64bf1-aca4-4185-9113-f2ebb61c6c80",
   "metadata": {},
   "outputs": [],
   "source": [
    "visitados = []\n",
    "a_visitar = ['https://pt.wikipedia.org/wiki/Wikip%C3%A9dia:P%C3%A1gina_principal']"
   ]
  },
  {
   "cell_type": "code",
   "execution_count": null,
   "id": "7d45c1a9-e814-4a3f-b9f3-5f2afaaf0212",
   "metadata": {},
   "outputs": [],
   "source": [
    "for i in range(2):\n",
    "    if len(a_visitar) == 0:\n",
    "        break\n",
    "    url_atual = a_visitar.pop(0)\n",
    "    if url_atual in visitados:\n",
    "        continue\n",
    "\n",
    "    response = requests.get(url_atual)\n",
    "    time.sleep(1)\n",
    "    soup = BeautifulSoup(response.content, \"html.parser\")    \n",
    "    visitados.append(url_atual)\n",
    "\n",
    "    infobox = soup.find_all(attrs={\"class\": \"infobox infobox_v2\"})\n",
    "    if infobox:\n",
    "        titulo = infobox.find('caption').text\n",
    "        # pegar as linhas da infobox\n",
    "\n",
    "    todos_links = soup.find(id=\"bodyContent\").find_all(\"a\")\n",
    "    for link in todos_links:\n",
    "        print(link[\"href\"])\n",
    "    \n",
    "        if link['href'][:6] == '/wiki/' and ':' not in link['href'] and link['href'] not in visitados and link['href'] not in a_visitar:\n",
    "            a_visitar.append(link['href'])\n",
    "\n",
    "    \n",
    "    with open(f'./{soup.select(\".mw-page-title-main\")[0].text}_verbete.html', 'w', encoding='utf-8') as file:\n",
    "        file.write(soup)"
   ]
  }
 ],
 "metadata": {
  "kernelspec": {
   "display_name": "Python 3 (ipykernel)",
   "language": "python",
   "name": "python3"
  },
  "language_info": {
   "codemirror_mode": {
    "name": "ipython",
    "version": 3
   },
   "file_extension": ".py",
   "mimetype": "text/x-python",
   "name": "python",
   "nbconvert_exporter": "python",
   "pygments_lexer": "ipython3",
   "version": "3.12.3"
  },
  "panel-cell-order": [
   "862a5caa-b0b3-4dd2-af5b-120c6125265c"
  ]
 },
 "nbformat": 4,
 "nbformat_minor": 5
}
